{
  "nbformat": 4,
  "nbformat_minor": 0,
  "metadata": {
    "colab": {
      "provenance": [],
      "authorship_tag": "ABX9TyPZ2MDwZVVcDGcFnxNf3gqt",
      "include_colab_link": true
    },
    "kernelspec": {
      "name": "python3",
      "display_name": "Python 3"
    },
    "language_info": {
      "name": "python"
    }
  },
  "cells": [
    {
      "cell_type": "markdown",
      "metadata": {
        "id": "view-in-github",
        "colab_type": "text"
      },
      "source": [
        "<a href=\"https://colab.research.google.com/github/Ziadnasser1/Machine-Learning-Training/blob/master/IrisKNN.ipynb\" target=\"_parent\"><img src=\"https://colab.research.google.com/assets/colab-badge.svg\" alt=\"Open In Colab\"/></a>"
      ]
    },
    {
      "cell_type": "code",
      "execution_count": 55,
      "metadata": {
        "id": "wwGhBkG7tXiQ"
      },
      "outputs": [],
      "source": [
        "import pandas as pd\n",
        "import seaborn as sns\n",
        "import matplotlib.pyplot as plt\n",
        "from sklearn.model_selection import train_test_split"
      ]
    },
    {
      "cell_type": "code",
      "source": [
        "file_path = '/content/Iris.csv'\n",
        "column_names = ['sepal_length', 'sepal_width', 'petal_length', 'petal_width', 'class']\n",
        "df = pd.read_csv(file_path, header=None, names=column_names, skiprows = 1)\n",
        "df.head()"
      ],
      "metadata": {
        "id": "Umf_uEuYwAQz"
      },
      "execution_count": null,
      "outputs": []
    },
    {
      "cell_type": "code",
      "source": [
        "sns.lmplot(x='sepal_length', y='sepal_width', hue='class', data=df, fit_reg=False)\n",
        "plt.title('Sepal Width vs Sepal Length')\n",
        "plt.show()"
      ],
      "metadata": {
        "id": "d5mg4hiXzzCH"
      },
      "execution_count": null,
      "outputs": []
    },
    {
      "cell_type": "code",
      "source": [
        "sns.lmplot(x='petal_length', y='petal_width', hue='class', data=df, fit_reg=False)\n",
        "plt.title('Petal Width vs Petal Length')\n",
        "plt.show()"
      ],
      "metadata": {
        "id": "epLmVGj8BGl1"
      },
      "execution_count": null,
      "outputs": []
    },
    {
      "cell_type": "code",
      "source": [
        "X = df[['sepal_length', 'sepal_width', 'petal_length', 'petal_width']]\n",
        "\n",
        "Y = df['class']\n",
        "X.head()"
      ],
      "metadata": {
        "id": "VVgpNEKdCcSf"
      },
      "execution_count": null,
      "outputs": []
    },
    {
      "cell_type": "code",
      "source": [
        "X_train, X_test, Y_train, Y_test = train_test_split(X,Y,test_size=0.3,random_state=42)\n",
        "print(X_train[:5])\n",
        "print(X_test[:5])\n",
        "print(Y_train[:5])\n",
        "print(Y_test[:5])"
      ],
      "metadata": {
        "id": "KXz3nvHzChJj"
      },
      "execution_count": null,
      "outputs": []
    }
  ]
}