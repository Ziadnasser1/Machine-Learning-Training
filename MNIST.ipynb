{
  "nbformat": 4,
  "nbformat_minor": 0,
  "metadata": {
    "colab": {
      "provenance": [],
      "toc_visible": true,
      "authorship_tag": "ABX9TyM6eu6+vGThjcxCdJYFJEId",
      "include_colab_link": true
    },
    "kernelspec": {
      "name": "python3",
      "display_name": "Python 3"
    },
    "language_info": {
      "name": "python"
    }
  },
  "cells": [
    {
      "cell_type": "markdown",
      "metadata": {
        "id": "view-in-github",
        "colab_type": "text"
      },
      "source": [
        "<a href=\"https://colab.research.google.com/github/Ziadnasser1/Machine-Learning-Training/blob/master/MNIST.ipynb\" target=\"_parent\"><img src=\"https://colab.research.google.com/assets/colab-badge.svg\" alt=\"Open In Colab\"/></a>"
      ]
    },
    {
      "cell_type": "markdown",
      "source": [
        "# Builtin Data\n",
        "Using builtin library to get the data of the `MNIST` data set."
      ],
      "metadata": {
        "id": "RwCxEj8nUpzG"
      }
    },
    {
      "cell_type": "code",
      "source": [
        "import tensorflow as tf\n",
        "from tensorflow.keras.datasets import mnist\n",
        "from sklearn.model_selection import train_test_split\n",
        "from tensorflow.keras.utils import to_categorical\n",
        "from skimage.feature import hog\n",
        "from skimage import exposure"
      ],
      "metadata": {
        "id": "08XM_pk0UN8R"
      },
      "execution_count": null,
      "outputs": []
    },
    {
      "cell_type": "code",
      "source": [
        "(x_train, y_train), (x_test, y_test) = mnist.load_data()\n"
      ],
      "metadata": {
        "id": "Bh94MlI9VWhH"
      },
      "execution_count": null,
      "outputs": []
    },
    {
      "cell_type": "markdown",
      "source": [
        "Convert class vectors to binary class matrices"
      ],
      "metadata": {
        "id": "Z5jyUKp-WV-1"
      }
    },
    {
      "cell_type": "code",
      "source": [
        "y_train_BI = to_categorical(y_train_BI, 10)\n",
        "y_val_BI = to_categorical(y_val_BI, 10)\n",
        "y_test_BI = to_categorical(y_test_BI, 10)"
      ],
      "metadata": {
        "id": "r_AcSo_0WHBp"
      },
      "execution_count": null,
      "outputs": []
    },
    {
      "cell_type": "code",
      "source": [
        "print(\"Training data shape:\", x_train_BI.shape)\n",
        "print(\"Validation data shape:\", x_val_BI.shape)\n",
        "print(\"Test data shape:\", x_test_BI.shape)\n",
        "print(\"Training labels shape:\", y_train_BI.shape)\n",
        "print(\"Validation labels shape:\", y_val_BI.shape)\n",
        "print(\"Test labels shape:\", y_test_BI.shape)"
      ],
      "metadata": {
        "colab": {
          "base_uri": "https://localhost:8080/"
        },
        "id": "k7bgZrYAWa3j",
        "outputId": "2191a55b-55f0-42f3-df07-73c5e0fe53b8"
      },
      "execution_count": null,
      "outputs": [
        {
          "output_type": "stream",
          "name": "stdout",
          "text": [
            "Training data shape: (48000, 28, 28)\n",
            "Validation data shape: (12000, 28, 28)\n",
            "Test data shape: (10000, 28, 28)\n",
            "Training labels shape: (48000, 10)\n",
            "Validation labels shape: (12000, 10)\n",
            "Test labels shape: (10000, 10)\n"
          ]
        }
      ]
    },
    {
      "cell_type": "markdown",
      "source": [
        "# Manually Get the data\n",
        "Get the data from Files and making the functions manually."
      ],
      "metadata": {
        "id": "j074BC07UzM-"
      }
    },
    {
      "cell_type": "code",
      "execution_count": 42,
      "metadata": {
        "id": "DyPXXpFRN5G3"
      },
      "outputs": [],
      "source": [
        "import gzip\n",
        "import numpy as np\n",
        "import matplotlib.pyplot as plt\n",
        "from skimage.feature import hog\n",
        "from skimage import exposure\n",
        "from sklearn.metrics import accuracy_score\n",
        "from sklearn.neighbors import KNeighborsClassifier\n",
        "from sklearn.naive_bayes import GaussianNB\n",
        "from sklearn.svm import LinearSVC"
      ]
    },
    {
      "cell_type": "markdown",
      "source": [
        "This is **Load Data** function which is responsible for getting the data from the files in the content.\n",
        "The files are in compressed in `gzip` format. So the function open them in `binary read` mode.\n",
        "Then the function load the data in `data` variable by reading the content of the file with `.read()` and convert it to `Numpy Array`.\n",
        "The `dtype=np.uint8` specifies that the data in the file should be interpreted as unsigned 8-bit integers.\n",
        "While `offset=16`: Skips the first 16 bytes of the file as they usually contain the meta data."
      ],
      "metadata": {
        "id": "vext2NeaV-4J"
      }
    },
    {
      "cell_type": "code",
      "source": [
        "def load_data(file_path, is_labels=False):\n",
        "    with gzip.open(file_path, 'rb') as f:\n",
        "        data = np.frombuffer(f.read(), dtype=np.uint8, offset=8 if is_labels else 16)\n",
        "    if not is_labels:\n",
        "        num_images = len(data) // (28 * 28)\n",
        "        data = data.reshape((num_images, 28, 28))\n",
        "    return data\n",
        "\n",
        "train_images = load_data('/content/train-images-idx3-ubyte.gz')\n",
        "train_labels = load_data('/content/train-labels-idx1-ubyte.gz', is_labels=True)\n",
        "test_images = load_data('/content/t10k-images-idx3-ubyte.gz')\n",
        "test_labels = load_data('/content/t10k-labels-idx1-ubyte.gz', is_labels=True)"
      ],
      "metadata": {
        "id": "hfwdTdBeTblr"
      },
      "execution_count": 43,
      "outputs": []
    },
    {
      "cell_type": "code",
      "source": [
        "print(train_images.shape)\n",
        "print(train_labels.shape)\n",
        "print(test_images.shape)\n",
        "print(test_labels.shape)"
      ],
      "metadata": {
        "id": "4Md83Z9sTfnX",
        "colab": {
          "base_uri": "https://localhost:8080/"
        },
        "outputId": "fdc6c8f7-261f-498a-c7d8-91b23e644698"
      },
      "execution_count": 44,
      "outputs": [
        {
          "output_type": "stream",
          "name": "stdout",
          "text": [
            "(60000, 28, 28)\n",
            "(60000,)\n",
            "(10000, 28, 28)\n",
            "(10000,)\n"
          ]
        }
      ]
    },
    {
      "cell_type": "markdown",
      "source": [
        "# Plotting the data"
      ],
      "metadata": {
        "id": "ZL7IiKs8ZSWb"
      }
    },
    {
      "cell_type": "code",
      "source": [
        "def plot_mnist_images(images, labels, num_images=10):\n",
        "    fig, axes = plt.subplots(1, num_images, figsize=(num_images * 2, 2))\n",
        "\n",
        "    for i in range(num_images):\n",
        "        axes[i].imshow(images[i].reshape(28, 28), cmap='gray')\n",
        "        axes[i].set_title(f\"Label: {labels[i]}\")\n",
        "        axes[i].axis('off')\n",
        "\n",
        "    plt.show()\n",
        "\n",
        "train_images_reshaped = train_images.reshape(-1, 28, 28)\n",
        "plot_mnist_images(train_images_reshaped, train_labels)"
      ],
      "metadata": {
        "colab": {
          "base_uri": "https://localhost:8080/",
          "height": 140
        },
        "id": "1rPCqSm1Ni4X",
        "outputId": "42c139f3-2b11-4dd8-9666-76447b152a1d"
      },
      "execution_count": 45,
      "outputs": [
        {
          "output_type": "display_data",
          "data": {
            "text/plain": [
              "<Figure size 2000x200 with 10 Axes>"
            ],
            "image/png": "[encoded data removed]"
          },
          "metadata": {}
        }
      ]
    },
    {
      "cell_type": "code",
      "source": [
        "def train_validate_split(images, labels, valRatio=0.2, random_seed=None):\n",
        "    total_size = len(images)\n",
        "    val_size = int(total_size * valRatio)\n",
        "    train_size = total_size - val_size\n",
        "\n",
        "    np.random.seed(random_seed)\n",
        "    shuffled_indices = np.random.permutation(total_size)\n",
        "    train_data, train_labels = images[shuffled_indices[:train_size]], labels[shuffled_indices[:train_size]]\n",
        "    val_data, val_labels = images[shuffled_indices[train_size:]], labels[shuffled_indices[train_size:]]\n",
        "\n",
        "    return train_data, train_labels, val_data, val_labels"
      ],
      "metadata": {
        "id": "bPcrAd3RRQBM"
      },
      "execution_count": 46,
      "outputs": []
    },
    {
      "cell_type": "code",
      "source": [
        "train_data, train_labels, val_data, val_labels = train_validate_split(train_images, train_labels, random_seed=42)\n",
        "\n",
        "print(train_data.shape)\n",
        "print(val_data.shape)\n",
        "print(test_images.shape)"
      ],
      "metadata": {
        "colab": {
          "base_uri": "https://localhost:8080/"
        },
        "id": "0pG-IH2sSMl7",
        "outputId": "0b08a3ea-6391-4c6b-edec-f8ab22c7a9e0"
      },
      "execution_count": 47,
      "outputs": [
        {
          "output_type": "stream",
          "name": "stdout",
          "text": [
            "(48000, 28, 28)\n",
            "(12000, 28, 28)\n",
            "(10000, 28, 28)\n"
          ]
        }
      ]
    },
    {
      "cell_type": "markdown",
      "source": [
        "# Compute Hog Features."
      ],
      "metadata": {
        "id": "Pt_6Qg9gZBW7"
      }
    },
    {
      "cell_type": "code",
      "source": [
        "def compute_hog_features(image):\n",
        "    feature_descriptor = hog(image, orientations=8, pixels_per_cell=(4,4), cells_per_block=(1,1))\n",
        "    return feature_descriptor\n",
        "\n",
        "def compute_hog_features_for_all(images):\n",
        "    hog_features = [compute_hog_features(image) for image in images]\n",
        "    return np.array(hog_features)\n",
        "\n",
        "train_hog_features = compute_hog_features_for_all(train_data)\n",
        "val_hog_features = compute_hog_features_for_all(val_data)\n",
        "test_hog_features = compute_hog_features_for_all(test_images)\n",
        "\n",
        "print(train_hog_features.shape)\n",
        "print(val_hog_features.shape)\n",
        "print(test_hog_features.shape)"
      ],
      "metadata": {
        "colab": {
          "base_uri": "https://localhost:8080/"
        },
        "id": "ZMwKPmTaF9ye",
        "outputId": "0d19f3e7-b059-4fea-d7ee-31be90f90e7c"
      },
      "execution_count": 48,
      "outputs": [
        {
          "output_type": "stream",
          "name": "stdout",
          "text": [
            "(48000, 392)\n",
            "(12000, 392)\n",
            "(10000, 392)\n"
          ]
        }
      ]
    },
    {
      "cell_type": "code",
      "source": [
        "# Reshape the data to be 2D\n",
        "train_data_flat = train_data.reshape((train_data.shape[0], -1))\n",
        "val_data_flat = val_data.reshape((val_data.shape[0], -1))\n",
        "test_data_flat = test_images.reshape((test_images.shape[0], -1))"
      ],
      "metadata": {
        "id": "RDjhcRJPSi6z"
      },
      "execution_count": 49,
      "outputs": []
    },
    {
      "cell_type": "markdown",
      "source": [
        "# Using Builtin KNN on the data.\n"
      ],
      "metadata": {
        "id": "9jTjdsyeYv3E"
      }
    },
    {
      "cell_type": "code",
      "source": [
        "# Original pixel data using KNN\n",
        "knn_classifier = KNeighborsClassifier(n_neighbors=3)\n",
        "knn_classifier.fit(train_data_flat, train_labels)\n",
        "\n",
        "val_predictions = knn_classifier.predict(val_data_flat)\n",
        "accuracy = accuracy_score(val_labels, val_predictions)\n",
        "print(\"Accuracy on validation set (original data): {:.2%}\".format(accuracy))\n",
        "\n",
        "test_predictions = knn_classifier.predict(test_data_flat)\n",
        "accuracy = accuracy_score(test_labels, test_predictions)\n",
        "print(\"Accuracy on test set (original data): {:.2%}\".format(accuracy))\n",
        "\n",
        "# HOG feature data using KNN\n",
        "knn_classifier_hog = KNeighborsClassifier(n_neighbors=3)\n",
        "knn_classifier_hog.fit(train_hog_features, train_labels)\n",
        "\n",
        "val_predictions_hog = knn_classifier_hog.predict(val_hog_features)\n",
        "accuracy_hog = accuracy_score(val_labels, val_predictions_hog)\n",
        "print(\"Accuracy on validation set (HOG features): {:.2%}\".format(accuracy_hog))\n",
        "\n",
        "test_predictions_hog = knn_classifier_hog.predict(test_hog_features)\n",
        "accuracy_hog = accuracy_score(test_labels, test_predictions_hog)\n",
        "print(\"Accuracy on test set (HOG features): {:.2%}\".format(accuracy_hog))\n"
      ],
      "metadata": {
        "id": "zCvEnRirRcok",
        "colab": {
          "base_uri": "https://localhost:8080/"
        },
        "outputId": "3cc8b20c-0ca1-4cb6-a57b-29a83dd585b9"
      },
      "execution_count": 50,
      "outputs": [
        {
          "output_type": "stream",
          "name": "stdout",
          "text": [
            "Accuracy on validation set (original data): 97.02%\n",
            "Accuracy on test set (original data): 96.90%\n",
            "Accuracy on validation set (HOG features): 96.45%\n",
            "Accuracy on test set (HOG features): 96.19%\n"
          ]
        }
      ]
    },
    {
      "cell_type": "markdown",
      "source": [
        "# Using Builtin Bayesian classifier on the data\n"
      ],
      "metadata": {
        "id": "lATXcDXeZY6J"
      }
    },
    {
      "cell_type": "code",
      "source": [
        "# Original pixel data using Bayesian\n",
        "nb_classifier = GaussianNB(var_smoothing = 1e-2)\n",
        "nb_classifier.fit(train_data_flat, train_labels)\n",
        "\n",
        "val_predictions_nb = nb_classifier.predict(val_data_flat)\n",
        "accuracy_nb = accuracy_score(val_labels, val_predictions_nb)\n",
        "print(\"Accuracy on validation set (Naive Bayes - original data): {:.2%}\".format(accuracy_nb))\n",
        "\n",
        "test_predictions_nb = nb_classifier.predict(test_data_flat)\n",
        "accuracy_nb_test = accuracy_score(test_labels, test_predictions_nb)\n",
        "print(\"Accuracy on test set (Naive Bayes - original data): {:.2%}\".format(accuracy_nb_test))\n",
        "\n",
        "# HOG feature data using Bayesian\n",
        "nb_classifier_hog = GaussianNB(var_smoothing = 1e-2)\n",
        "nb_classifier_hog.fit(train_hog_features, train_labels)\n",
        "\n",
        "val_predictions_nb_hog = nb_classifier_hog.predict(val_hog_features)\n",
        "accuracy_nb_hog = accuracy_score(val_labels, val_predictions_nb_hog)\n",
        "print(\"Accuracy on validation set (Naive Bayes - HOG features): {:.2%}\".format(accuracy_nb_hog))\n",
        "\n",
        "test_predictions_nb_hog = nb_classifier_hog.predict(test_hog_features)\n",
        "accuracy_nb_hog_test = accuracy_score(test_labels, test_predictions_nb_hog)\n",
        "print(\"Accuracy on test set (Naive Bayes - HOG features): {:.2%}\".format(accuracy_nb_hog_test))"
      ],
      "metadata": {
        "colab": {
          "base_uri": "https://localhost:8080/"
        },
        "id": "BytAGI7haJn7",
        "outputId": "3efffbe0-7d8b-4296-d630-b3ad3d243c19"
      },
      "execution_count": 51,
      "outputs": [
        {
          "output_type": "stream",
          "name": "stdout",
          "text": [
            "Accuracy on validation set (Naive Bayes - original data): 78.10%\n",
            "Accuracy on test set (Naive Bayes - original data): 78.98%\n",
            "Accuracy on validation set (Naive Bayes - HOG features): 86.22%\n",
            "Accuracy on test set (Naive Bayes - HOG features): 87.26%\n"
          ]
        }
      ]
    },
    {
      "cell_type": "markdown",
      "source": [
        "# Using Builtin Support Vector Machine (SVM) on the data"
      ],
      "metadata": {
        "id": "jmkrGK4hjA-I"
      }
    },
    {
      "cell_type": "code",
      "source": [
        "#Original pixel data using SVM\n",
        "svm_classifier = LinearSVC()\n",
        "svm_classifier.fit(train_data_flat, train_labels)\n",
        "\n",
        "\n",
        "val_predictions_svm = svm_classifier.predict(val_data_flat)\n",
        "accuracy_svm = accuracy_score(val_labels, val_predictions_svm)\n",
        "print(\"Accuracy on validation set (SVM - original data): {:.2%}\".format(accuracy_svm))\n",
        "\n",
        "test_predictions_svm = svm_classifier.predict(test_data_flat)\n",
        "accuracy_svm_test = accuracy_score(test_labels, test_predictions_svm)\n",
        "print(\"Accuracy on test set (SVM - original data): {:.2%}\".format(accuracy_svm_test))\n",
        "\n",
        "# SVM on HOG features\n",
        "train_hog_features_2d = train_hog_features.reshape((train_hog_features.shape[0], -1))\n",
        "val_hog_features_2d = val_hog_features.reshape((val_hog_features.shape[0], -1))\n",
        "test_hog_features_2d = test_hog_features.reshape((test_hog_features.shape[0], -1))\n",
        "\n",
        "svm_classifier_hog = LinearSVC()\n",
        "svm_classifier_hog.fit(train_hog_features_2d, train_labels)\n",
        "\n",
        "val_predictions_svm_hog = svm_classifier_hog.predict(val_hog_features_2d)\n",
        "accuracy_svm_hog = accuracy_score(val_labels, val_predictions_svm_hog)\n",
        "print(\"Accuracy on validation set (SVM - HOG features): {:.2%}\".format(accuracy_svm_hog))\n",
        "\n",
        "test_predictions_svm_hog = svm_classifier_hog.predict(test_hog_features_2d)\n",
        "accuracy_svm_hog_test = accuracy_score(test_labels, test_predictions_svm_hog)\n",
        "print(\"Accuracy on test set (SVM - HOG features): {:.2%}\".format(accuracy_svm_hog_test))"
      ],
      "metadata": {
        "id": "oWjiT_HQjLzX",
        "colab": {
          "base_uri": "https://localhost:8080/"
        },
        "outputId": "c5895a52-8957-4ac9-c73d-500fd7aa762f"
      },
      "execution_count": 52,
      "outputs": [
        {
          "output_type": "stream",
          "name": "stderr",
          "text": [
            "/usr/local/lib/python3.10/dist-packages/sklearn/svm/_base.py:1244: ConvergenceWarning: Liblinear failed to converge, increase the number of iterations.\n",
            "  warnings.warn(\n"
          ]
        },
        {
          "output_type": "stream",
          "name": "stdout",
          "text": [
            "Accuracy on validation set (SVM - original data): 84.51%\n",
            "Accuracy on test set (SVM - original data): 84.88%\n",
            "Accuracy on validation set (SVM - HOG features): 97.09%\n",
            "Accuracy on test set (SVM - HOG features): 97.19%\n"
          ]
        }
      ]
    },
    {
      "cell_type": "markdown",
      "source": [
        "# Report for each model."
      ],
      "metadata": {
        "id": "rvXlOvDSb5NG"
      }
    },
    {
      "cell_type": "code",
      "source": [
        "from sklearn.metrics import classification_report\n",
        "\n",
        "knnReport = classification_report(test_labels, test_predictions)\n",
        "print(\"KNN Report :\\n\" + knnReport)\n",
        "print(\"-------------------------------------------------\")\n",
        "GNBReport = classification_report(test_labels, test_predictions_nb)\n",
        "print(\"GNB Report:\\n\" + GNBReport)\n",
        "print(\"-------------------------------------------------\")\n",
        "SVMReport = classification_report(test_labels, test_predictions_svm)\n",
        "print(\"SVM Report:\\n\" + SVMReport)"
      ],
      "metadata": {
        "colab": {
          "base_uri": "https://localhost:8080/"
        },
        "id": "R0o5QzOdb9VH",
        "outputId": "51bfdd6d-fbe4-4280-99c4-b4fc738c89d6"
      },
      "execution_count": 61,
      "outputs": [
        {
          "output_type": "stream",
          "name": "stdout",
          "text": [
            "KNN Report :\n",
            "              precision    recall  f1-score   support\n",
            "\n",
            "           0       0.96      0.99      0.98       980\n",
            "           1       0.96      1.00      0.98      1135\n",
            "           2       0.98      0.97      0.97      1032\n",
            "           3       0.96      0.97      0.96      1010\n",
            "           4       0.98      0.96      0.97       982\n",
            "           5       0.97      0.96      0.96       892\n",
            "           6       0.98      0.99      0.98       958\n",
            "           7       0.96      0.96      0.96      1028\n",
            "           8       0.99      0.94      0.97       974\n",
            "           9       0.95      0.96      0.95      1009\n",
            "\n",
            "    accuracy                           0.97     10000\n",
            "   macro avg       0.97      0.97      0.97     10000\n",
            "weighted avg       0.97      0.97      0.97     10000\n",
            "\n",
            "-------------------------------------------------\n",
            "GNB Report:\n",
            "              precision    recall  f1-score   support\n",
            "\n",
            "           0       0.92      0.91      0.92       980\n",
            "           1       0.86      0.96      0.91      1135\n",
            "           2       0.89      0.71      0.79      1032\n",
            "           3       0.81      0.76      0.79      1010\n",
            "           4       0.85      0.60      0.70       982\n",
            "           5       0.86      0.58      0.69       892\n",
            "           6       0.83      0.92      0.87       958\n",
            "           7       0.93      0.77      0.84      1028\n",
            "           8       0.60      0.75      0.67       974\n",
            "           9       0.58      0.90      0.71      1009\n",
            "\n",
            "    accuracy                           0.79     10000\n",
            "   macro avg       0.81      0.79      0.79     10000\n",
            "weighted avg       0.81      0.79      0.79     10000\n",
            "\n",
            "-------------------------------------------------\n",
            "SVM Report:\n",
            "              precision    recall  f1-score   support\n",
            "\n",
            "           0       0.91      0.98      0.94       980\n",
            "           1       0.95      0.97      0.96      1135\n",
            "           2       0.93      0.77      0.84      1032\n",
            "           3       0.84      0.85      0.84      1010\n",
            "           4       0.96      0.82      0.88       982\n",
            "           5       0.80      0.81      0.80       892\n",
            "           6       0.96      0.88      0.92       958\n",
            "           7       0.66      0.96      0.78      1028\n",
            "           8       0.80      0.68      0.73       974\n",
            "           9       0.78      0.75      0.76      1009\n",
            "\n",
            "    accuracy                           0.85     10000\n",
            "   macro avg       0.86      0.85      0.85     10000\n",
            "weighted avg       0.86      0.85      0.85     10000\n",
            "\n"
          ]
        }
      ]
    },
    {
      "cell_type": "markdown",
      "source": [
        "# KNN Classifier manually implemented."
      ],
      "metadata": {
        "id": "F0TQ55MT-4vV"
      }
    },
    {
      "cell_type": "code",
      "source": [
        "class KNNClassifier:\n",
        "    def __init__(self, k=3):\n",
        "        self.k = k\n",
        "\n",
        "    def fit(self, X, y):\n",
        "        self.X_train = X\n",
        "        self.y_train = y\n",
        "\n",
        "    def predict(self, X):\n",
        "        predictions = [self._predict(x) for x in X]\n",
        "        return np.array(predictions)\n",
        "\n",
        "    def _predict(self, x):\n",
        "        distances = np.sqrt(np.sum((self.X_train[:, np.newaxis] - x) ** 2, axis=2))\n",
        "        k_neighbors_indices = np.argpartition(distances, self.k, axis=0)[:self.k]\n",
        "\n",
        "        k_neighbor_labels = self.y_train[k_neighbors_indices]\n",
        "\n",
        "        predictions = np.apply_along_axis(lambda x: np.bincount(x).argmax(), axis=0, arr=k_neighbor_labels)\n",
        "\n",
        "        return predictions\n"
      ],
      "metadata": {
        "id": "w-p0ErrT--Q-"
      },
      "execution_count": 53,
      "outputs": []
    },
    {
      "cell_type": "code",
      "source": [
        "my_knn_classifier = KNNClassifier()\n",
        "my_knn_classifier.fit(train_data_flat, train_labels)\n",
        "\n",
        "val_prediction = my_knn_classifier.predict(val_data_flat)\n",
        "accuracy = accuracy_score(val_labels, val_prediction)\n",
        "print(\"Accuracy on validation set: {:.2%}\".format(accuracy))\n",
        "\n",
        "test_prediction = my_knn_classifier.predict(test_data_flat)\n",
        "accuracy = accuracy_score(test_labels, test_prediction)\n",
        "print(\"Accuracy on test set: {:.2%}\".format(accuracy))\n"
      ],
      "metadata": {
        "colab": {
          "base_uri": "https://localhost:8080/"
        },
        "id": "NwozHwCa_Vkz",
        "outputId": "0d5000ca-a36c-4e3e-f243-6378a27541b0"
      },
      "execution_count": 54,
      "outputs": [
        {
          "output_type": "stream",
          "name": "stdout",
          "text": [
            "Accuracy on validation set: 25.45%\n",
            "Accuracy on test set: 24.79%\n"
          ]
        }
      ]
    },
    {
      "cell_type": "markdown",
      "source": [
        "# Bayesian Classifier manually implemented"
      ],
      "metadata": {
        "id": "NJ088WmsNen3"
      }
    },
    {
      "cell_type": "code",
      "source": [
        "class GaussianNaiveBayes:\n",
        "    def __init__(self):\n",
        "        self.Wprob = None\n",
        "        self.Xprob = None\n",
        "\n",
        "    def fit(self, X, Y):\n",
        "        self.Wprob = {label: np.mean(Y == label) for label in set(Y)}\n",
        "        self.Xprob = {}\n",
        "        for label in set(Y):\n",
        "            label_mask = (Y == label)\n",
        "            self.Xprob[label] = {\n",
        "                'mean': np.mean(X[label_mask], axis=0),\n",
        "                'std': np.std(X[label_mask], axis=0) + 1e-8\n",
        "            }\n",
        "\n",
        "    def gaussian_disc(self, x, label):\n",
        "        std = self.Xprob[label]['std']\n",
        "        eps = 1e-8\n",
        "        std_plus_eps = std + eps\n",
        "        probs = np.exp(-0.5 * ((x - self.Xprob[label]['mean']) / std_plus_eps)**2 - 0.5 * np.log(2 * np.pi * std_plus_eps))\n",
        "        return probs\n",
        "\n",
        "    def predict(self, T):\n",
        "        pred_list = []\n",
        "        for sample in T:\n",
        "            likelihoods = {\n",
        "                label: np.sum(np.log(self.gaussian_disc(sample, label)))\n",
        "                for label in self.Wprob\n",
        "            }\n",
        "            posteriors = {\n",
        "                label: likelihoods[label] + np.log(self.Wprob[label])\n",
        "                for label in self.Wprob\n",
        "            }\n",
        "            predicted_class = max(posteriors, key=posteriors.get)\n",
        "            pred_list.append(predicted_class)\n",
        "        return pred_list"
      ],
      "metadata": {
        "id": "nBT2XzY4NlK-"
      },
      "execution_count": 39,
      "outputs": []
    },
    {
      "cell_type": "code",
      "source": [
        "gnb_classifier = GaussianNaiveBayes()\n",
        "gnb_classifier.fit(train_data_flat, train_labels)\n",
        "\n",
        "val_prediction = gnb_classifier.predict(val_data_flat)\n",
        "accuracy = accuracy_score(val_labels, val_prediction)\n",
        "print(\"Accuracy on validation set: {:.2%}\".format(accuracy))\n",
        "\n",
        "test_prediction = gnb_classifier.predict(test_data_flat)\n",
        "accuracy = accuracy_score(test_labels, test_prediction)\n",
        "print(\"Accuracy on test set: {:.2%}\".format(accuracy))"
      ],
      "metadata": {
        "colab": {
          "base_uri": "https://localhost:8080/"
        },
        "id": "az_rMYPtOaB-",
        "outputId": "be3754fd-2b12-4732-c690-26bb4132a1ba"
      },
      "execution_count": 40,
      "outputs": [
        {
          "output_type": "stream",
          "name": "stderr",
          "text": [
            "<ipython-input-39-07fb7475b87e>:27: RuntimeWarning: divide by zero encountered in log\n",
            "  label: np.sum(np.log(self.gaussian_disc(sample, label)))\n"
          ]
        },
        {
          "output_type": "stream",
          "name": "stdout",
          "text": [
            "Accuracy on validation set: 55.47%\n"
          ]
        },
        {
          "output_type": "stream",
          "name": "stderr",
          "text": [
            "<ipython-input-39-07fb7475b87e>:27: RuntimeWarning: divide by zero encountered in log\n",
            "  label: np.sum(np.log(self.gaussian_disc(sample, label)))\n"
          ]
        },
        {
          "output_type": "stream",
          "name": "stdout",
          "text": [
            "Accuracy on test set: 54.21%\n"
          ]
        }
      ]
    }
  ]
}