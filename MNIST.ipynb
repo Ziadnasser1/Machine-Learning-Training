{
  "nbformat": 4,
  "nbformat_minor": 0,
  "metadata": {
    "colab": {
      "provenance": [],
      "authorship_tag": "ABX9TyNxYjNaKTNPQ6ymacEXCjq5",
      "include_colab_link": true
    },
    "kernelspec": {
      "name": "python3",
      "display_name": "Python 3"
    },
    "language_info": {
      "name": "python"
    }
  },
  "cells": [
    {
      "cell_type": "markdown",
      "metadata": {
        "id": "view-in-github",
        "colab_type": "text"
      },
      "source": [
        "<a href=\"https://colab.research.google.com/github/Ziadnasser1/Machine-Learning-Training/blob/master/MNIST.ipynb\" target=\"_parent\"><img src=\"https://colab.research.google.com/assets/colab-badge.svg\" alt=\"Open In Colab\"/></a>"
      ]
    },
    {
      "cell_type": "markdown",
      "source": [
        "# Builtin\n",
        "Using builtin library to get the data of the `MNIST` data set."
      ],
      "metadata": {
        "id": "RwCxEj8nUpzG"
      }
    },
    {
      "cell_type": "code",
      "source": [
        "import tensorflow as tf\n",
        "from tensorflow.keras.datasets import mnist\n",
        "from sklearn.model_selection import train_test_split\n",
        "from tensorflow.keras.utils import to_categorical"
      ],
      "metadata": {
        "id": "08XM_pk0UN8R"
      },
      "execution_count": 25,
      "outputs": []
    },
    {
      "cell_type": "code",
      "source": [
        "# BI = BuiltIn\n",
        "(x_train_BI, y_train_BI), (x_test_BI, y_test_BI) = mnist.load_data()\n",
        "x_train_BI, x_test_BI = x_train_BI / 255.0, x_test_BI / 255.0\n",
        "\n",
        "x_train_BI, x_val_BI, y_train_BI, y_val_BI = train_test_split(x_train_BI, y_train_BI, test_size=0.2, random_state=42)\n"
      ],
      "metadata": {
        "id": "Bh94MlI9VWhH"
      },
      "execution_count": null,
      "outputs": []
    },
    {
      "cell_type": "markdown",
      "source": [
        "Convert class vectors to binary class matrices"
      ],
      "metadata": {
        "id": "Z5jyUKp-WV-1"
      }
    },
    {
      "cell_type": "code",
      "source": [
        "y_train_BI = to_categorical(y_train_BI, 10)\n",
        "y_val_BI = to_categorical(y_val_BI, 10)\n",
        "y_test_BI = to_categorical(y_test_BI, 10)"
      ],
      "metadata": {
        "id": "r_AcSo_0WHBp"
      },
      "execution_count": 27,
      "outputs": []
    },
    {
      "cell_type": "code",
      "source": [
        "print(\"Training data shape:\", x_train_BI.shape)\n",
        "print(\"Validation data shape:\", x_val_BI.shape)\n",
        "print(\"Test data shape:\", x_test_BI.shape)\n",
        "print(\"Training labels shape:\", y_train_BI.shape)\n",
        "print(\"Validation labels shape:\", y_val_BI.shape)\n",
        "print(\"Test labels shape:\", y_test_BI.shape)"
      ],
      "metadata": {
        "colab": {
          "base_uri": "https://localhost:8080/"
        },
        "id": "k7bgZrYAWa3j",
        "outputId": "29f1d4c1-0478-4be0-a2c7-9928318bb73c"
      },
      "execution_count": 29,
      "outputs": [
        {
          "output_type": "stream",
          "name": "stdout",
          "text": [
            "Training data shape: (48000, 28, 28)\n",
            "Validation data shape: (12000, 28, 28)\n",
            "Test data shape: (10000, 28, 28)\n",
            "Training labels shape: (48000, 10)\n",
            "Validation labels shape: (12000, 10)\n",
            "Test labels shape: (10000, 10)\n"
          ]
        }
      ]
    },
    {
      "cell_type": "markdown",
      "source": [
        "# Manually Get the data\n",
        "Get the data from Files and making the functions manually."
      ],
      "metadata": {
        "id": "j074BC07UzM-"
      }
    },
    {
      "cell_type": "code",
      "execution_count": 19,
      "metadata": {
        "id": "DyPXXpFRN5G3"
      },
      "outputs": [],
      "source": [
        "import gzip\n",
        "import numpy as np\n",
        "import matplotlib.pyplot as plt"
      ]
    },
    {
      "cell_type": "markdown",
      "source": [
        "This is **Load Data** function which is responsible for getting the data from the files in the content.\n",
        "The files are in compressed in `gzip` format. So the function open them in `binary read` mode.\n",
        "Then the function load the data in `data` variable by reading the content of the file with `.read()` and convert it to `Numpy Array`.\n",
        "The `dtype=np.uint8` specifies that the data in the file should be interpreted as unsigned 8-bit integers.\n",
        "While `offset=16`: Skips the first 16 bytes of the file as they usually contain the meta data."
      ],
      "metadata": {
        "id": "vext2NeaV-4J"
      }
    },
    {
      "cell_type": "code",
      "source": [
        "def load_data(file_path, is_labels=False):\n",
        "    with gzip.open(file_path, 'rb') as f:\n",
        "        data = np.frombuffer(f.read(), dtype=np.uint8, offset=8 if is_labels else 16)\n",
        "    if not is_labels:\n",
        "        num_images = len(data) // (28 * 28)\n",
        "        data = data.reshape((num_images, 28, 28))\n",
        "    return data\n",
        "\n",
        "train_images = load_data('/content/train-images-idx3-ubyte.gz')\n",
        "train_labels = load_data('/content/train-labels-idx1-ubyte.gz', is_labels=True)\n",
        "test_images = load_data('/content/t10k-images-idx3-ubyte.gz')\n",
        "test_labels = load_data('/content/t10k-labels-idx1-ubyte.gz', is_labels=True)"
      ],
      "metadata": {
        "id": "hfwdTdBeTblr"
      },
      "execution_count": 32,
      "outputs": []
    },
    {
      "cell_type": "code",
      "source": [
        "print(train_images.shape)\n",
        "print(train_labels.shape)\n",
        "print(test_images.shape)\n",
        "print(test_labels.shape)"
      ],
      "metadata": {
        "id": "4Md83Z9sTfnX",
        "colab": {
          "base_uri": "https://localhost:8080/"
        },
        "outputId": "6dba5773-b4d9-477a-e2f3-a8fb85a1bd6d"
      },
      "execution_count": 33,
      "outputs": [
        {
          "output_type": "stream",
          "name": "stdout",
          "text": [
            "(60000, 28, 28)\n",
            "(60000,)\n",
            "(10000, 28, 28)\n",
            "(10000,)\n"
          ]
        }
      ]
    },
    {
      "cell_type": "code",
      "source": [
        "def plot_mnist_images(images, labels, num_images=10):\n",
        "    fig, axes = plt.subplots(1, num_images, figsize=(num_images * 2, 2))\n",
        "\n",
        "    for i in range(num_images):\n",
        "        axes[i].imshow(images[i].reshape(28, 28), cmap='gray')\n",
        "        axes[i].set_title(f\"Label: {labels[i]}\")\n",
        "        axes[i].axis('off')\n",
        "\n",
        "    plt.show()\n",
        "\n",
        "train_images_reshaped = train_images.reshape(-1, 28, 28)\n",
        "plot_mnist_images(train_images_reshaped, train_labels)"
      ],
      "metadata": {
        "colab": {
          "base_uri": "https://localhost:8080/",
          "height": 173
        },
        "id": "1rPCqSm1Ni4X",
        "outputId": "d31b0bf2-cf91-4663-bb0c-4dfb3356d1ec"
      },
      "execution_count": 34,
      "outputs": [
        {
          "output_type": "display_data",
          "data": {
            "text/plain": [
              "<Figure size 2000x200 with 10 Axes>"
            ],
            "image/png": "[encoded data removed]"
          },
          "metadata": {}
        }
      ]
    },
    {
      "cell_type": "code",
      "source": [
        "def train_validate_split(images, labels, valRatio=0.2, random_seed=None):\n",
        "    total_size = len(images)\n",
        "    val_size = int(total_size * valRatio)\n",
        "    train_size = total_size - val_size\n",
        "\n",
        "    np.random.seed(random_seed)\n",
        "    shuffled_indices = np.random.permutation(total_size)\n",
        "    train_data, train_labels = images[shuffled_indices[:train_size]], labels[shuffled_indices[:train_size]]\n",
        "    val_data, val_labels = images[shuffled_indices[train_size:]], labels[shuffled_indices[train_size:]]\n",
        "\n",
        "    return train_data, train_labels, val_data, val_labels\n",
        "\n"
      ],
      "metadata": {
        "id": "bPcrAd3RRQBM"
      },
      "execution_count": 35,
      "outputs": []
    },
    {
      "cell_type": "code",
      "source": [
        "train_data, train_labels, val_data, val_labels = train_validate_split(train_images, train_labels, random_seed=42)\n",
        "\n",
        "print(train_data.shape)\n",
        "print(val_data.shape)\n",
        "print(test_images.shape)"
      ],
      "metadata": {
        "colab": {
          "base_uri": "https://localhost:8080/"
        },
        "id": "0pG-IH2sSMl7",
        "outputId": "e90d72cb-4d61-4aba-d196-55fb1203a2ce"
      },
      "execution_count": 36,
      "outputs": [
        {
          "output_type": "stream",
          "name": "stdout",
          "text": [
            "(48000, 28, 28)\n",
            "(12000, 28, 28)\n",
            "(10000, 28, 28)\n"
          ]
        }
      ]
    }
  ]
}