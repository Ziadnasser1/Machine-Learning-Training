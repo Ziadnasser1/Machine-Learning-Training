{
  "nbformat": 4,
  "nbformat_minor": 0,
  "metadata": {
    "colab": {
      "provenance": [],
      "toc_visible": true,
      "authorship_tag": "ABX9TyOjxAXpiUCRpVIWoblvCzld",
      "include_colab_link": true
    },
    "kernelspec": {
      "name": "python3",
      "display_name": "Python 3"
    },
    "language_info": {
      "name": "python"
    }
  },
  "cells": [
    {
      "cell_type": "markdown",
      "metadata": {
        "id": "view-in-github",
        "colab_type": "text"
      },
      "source": [
        "<a href=\"https://colab.research.google.com/github/Ziadnasser1/Machine-Learning-Training/blob/master/FashionMnist(ANN_%26_CNN).ipynb\" target=\"_parent\"><img src=\"https://colab.research.google.com/assets/colab-badge.svg\" alt=\"Open In Colab\"/></a>"
      ]
    },
    {
      "cell_type": "markdown",
      "source": [
        "# Importing Libraries"
      ],
      "metadata": {
        "id": "azfyy4iDc3sv"
      }
    },
    {
      "cell_type": "code",
      "execution_count": 1,
      "metadata": {
        "id": "SgS2EMMNGHLR"
      },
      "outputs": [],
      "source": [
        "import tensorflow as tf\n",
        "import numpy as np\n",
        "import matplotlib.pyplot as plt\n",
        "from sklearn.model_selection import train_test_split"
      ]
    },
    {
      "cell_type": "markdown",
      "source": [
        "#Loading Data"
      ],
      "metadata": {
        "id": "txt1Bn3Qc9XQ"
      }
    },
    {
      "cell_type": "markdown",
      "source": [
        "Getting the fashion mnist data and normalizing it."
      ],
      "metadata": {
        "id": "ZrAAHYMHdDTq"
      }
    },
    {
      "cell_type": "code",
      "source": [
        "images_data = tf.keras.datasets.fashion_mnist\n",
        "\n",
        "(train_images, train_labels), (test_images, test_labels) = images_data.load_data()\n",
        "train_images = train_images/ 255.0\n",
        "test_images = test_images/ 255.0\n",
        "\n",
        "print(train_images.shape)\n",
        "print(train_labels.shape)\n",
        "print(test_images.shape)\n",
        "print(test_labels.shape)\n"
      ],
      "metadata": {
        "colab": {
          "base_uri": "https://localhost:8080/"
        },
        "id": "02uwr1PgGkN6",
        "outputId": "a7bfc90c-69dd-4977-ab23-e29381c4e2c8"
      },
      "execution_count": 2,
      "outputs": [
        {
          "output_type": "stream",
          "name": "stdout",
          "text": [
            "Downloading data from https://storage.googleapis.com/tensorflow/tf-keras-datasets/train-labels-idx1-ubyte.gz\n",
            "29515/29515 [==============================] - 0s 0us/step\n",
            "Downloading data from https://storage.googleapis.com/tensorflow/tf-keras-datasets/train-images-idx3-ubyte.gz\n",
            "26421880/26421880 [==============================] - 0s 0us/step\n",
            "Downloading data from https://storage.googleapis.com/tensorflow/tf-keras-datasets/t10k-labels-idx1-ubyte.gz\n",
            "5148/5148 [==============================] - 0s 0us/step\n",
            "Downloading data from https://storage.googleapis.com/tensorflow/tf-keras-datasets/t10k-images-idx3-ubyte.gz\n",
            "4422102/4422102 [==============================] - 0s 0us/step\n",
            "(60000, 28, 28)\n",
            "(60000,)\n",
            "(10000, 28, 28)\n",
            "(10000,)\n"
          ]
        }
      ]
    },
    {
      "cell_type": "markdown",
      "source": [
        "# Splitting the data\n",
        "Splitting the data to train, test and validate."
      ],
      "metadata": {
        "id": "KeolCJc9dJak"
      }
    },
    {
      "cell_type": "code",
      "source": [
        "train_images, val_images, train_labels, val_labels = train_test_split(train_images, train_labels, test_size=0.16666, random_state=42)\n",
        "print(train_images.shape)\n",
        "print(val_images.shape)"
      ],
      "metadata": {
        "colab": {
          "base_uri": "https://localhost:8080/"
        },
        "id": "7ZnnIja3H680",
        "outputId": "3a15dfa3-4e46-4e74-8823-69cd6ed62c7c"
      },
      "execution_count": 3,
      "outputs": [
        {
          "output_type": "stream",
          "name": "stdout",
          "text": [
            "(50000, 28, 28)\n",
            "(10000, 28, 28)\n"
          ]
        }
      ]
    },
    {
      "cell_type": "markdown",
      "source": [
        "#Plotting samples of the data."
      ],
      "metadata": {
        "id": "onAUMSNJdVsp"
      }
    },
    {
      "cell_type": "code",
      "source": [
        "class_names = ['T-shirt/top', 'Trouser', 'Pullover', 'Dress', 'Coat',\n",
        "               'Sandal', 'Shirt', 'Sneaker', 'Bag', 'Ankle boot']\n",
        "plt.figure(figsize=(10,10))\n",
        "for i in range(25):\n",
        "  plt.subplot(5,5,i+1)\n",
        "  plt.xticks([])\n",
        "  plt.yticks([])\n",
        "  plt.grid(False)\n",
        "  plt.imshow(train_images[i], cmap=plt.cm.binary)\n",
        "  plt.xlabel(class_names[train_labels[i]])\n",
        "plt.show"
      ],
      "metadata": {
        "colab": {
          "base_uri": "https://localhost:8080/",
          "height": 996
        },
        "id": "WvOcz5wzIcw6",
        "outputId": "ff2f3e4f-f604-4d46-d41b-1bab4e0f83f9"
      },
      "execution_count": 4,
      "outputs": [
        {
          "output_type": "execute_result",
          "data": {
            "text/plain": [
              "<function matplotlib.pyplot.show(close=None, block=None)>"
            ],
            "text/html": [
              "<div style=\"max-width:800px; border: 1px solid var(--colab-border-color);\"><style>\n",
              "      pre.function-repr-contents {\n",
              "        overflow-x: auto;\n",
              "        padding: 8px 12px;\n",
              "        max-height: 500px;\n",
              "      }\n",
              "\n",
              "      pre.function-repr-contents.function-repr-contents-collapsed {\n",
              "        cursor: pointer;\n",
              "        max-height: 100px;\n",
              "      }\n",
              "    </style>\n",
              "    <pre style=\"white-space: initial; background:\n",
              "         var(--colab-secondary-surface-color); padding: 8px 12px;\n",
              "         border-bottom: 1px solid var(--colab-border-color);\"><b>matplotlib.pyplot.show</b><br/>def show(*args, **kwargs)</pre><pre class=\"function-repr-contents function-repr-contents-collapsed\" style=\"\"><a class=\"filepath\" style=\"display:none\" href=\"#\">/usr/local/lib/python3.10/dist-packages/matplotlib/pyplot.py</a>Display all open figures.\n",
              "\n",
              "Parameters\n",
              "----------\n",
              "block : bool, optional\n",
              "    Whether to wait for all figures to be closed before returning.\n",
              "\n",
              "    If `True` block and run the GUI main loop until all figure windows\n",
              "    are closed.\n",
              "\n",
              "    If `False` ensure that all figure windows are displayed and return\n",
              "    immediately.  In this case, you are responsible for ensuring\n",
              "    that the event loop is running to have responsive figures.\n",
              "\n",
              "    Defaults to True in non-interactive mode and to False in interactive\n",
              "    mode (see `.pyplot.isinteractive`).\n",
              "\n",
              "See Also\n",
              "--------\n",
              "ion : Enable interactive mode, which shows / updates the figure after\n",
              "      every plotting command, so that calling ``show()`` is not necessary.\n",
              "ioff : Disable interactive mode.\n",
              "savefig : Save the figure to an image file instead of showing it on screen.\n",
              "\n",
              "Notes\n",
              "-----\n",
              "**Saving figures to file and showing a window at the same time**\n",
              "\n",
              "If you want an image file as well as a user interface window, use\n",
              "`.pyplot.savefig` before `.pyplot.show`. At the end of (a blocking)\n",
              "``show()`` the figure is closed and thus unregistered from pyplot. Calling\n",
              "`.pyplot.savefig` afterwards would save a new and thus empty figure. This\n",
              "limitation of command order does not apply if the show is non-blocking or\n",
              "if you keep a reference to the figure and use `.Figure.savefig`.\n",
              "\n",
              "**Auto-show in jupyter notebooks**\n",
              "\n",
              "The jupyter backends (activated via ``%matplotlib inline``,\n",
              "``%matplotlib notebook``, or ``%matplotlib widget``), call ``show()`` at\n",
              "the end of every cell by default. Thus, you usually don&#x27;t have to call it\n",
              "explicitly there.</pre>\n",
              "      <script>\n",
              "      if (google.colab.kernel.accessAllowed && google.colab.files && google.colab.files.view) {\n",
              "        for (const element of document.querySelectorAll('.filepath')) {\n",
              "          element.style.display = 'block'\n",
              "          element.onclick = (event) => {\n",
              "            event.preventDefault();\n",
              "            event.stopPropagation();\n",
              "            google.colab.files.view(element.textContent, 401);\n",
              "          };\n",
              "        }\n",
              "      }\n",
              "      for (const element of document.querySelectorAll('.function-repr-contents')) {\n",
              "        element.onclick = (event) => {\n",
              "          event.preventDefault();\n",
              "          event.stopPropagation();\n",
              "          element.classList.toggle('function-repr-contents-collapsed');\n",
              "        };\n",
              "      }\n",
              "      </script>\n",
              "      </div>"
            ]
          },
          "metadata": {},
          "execution_count": 4
        },
        {
          "output_type": "display_data",
          "data": {
            "text/plain": [
              "<Figure size 1000x1000 with 25 Axes>"
            ],
            "image/png": "[encoded data removed]"
          },
          "metadata": {}
        }
      ]
    },
    {
      "cell_type": "markdown",
      "source": [
        "# Different architectures"
      ],
      "metadata": {
        "id": "qiOFrnTXdeKi"
      }
    },
    {
      "cell_type": "markdown",
      "source": [
        "# **First Architecture**."
      ],
      "metadata": {
        "id": "wPiqVgLLgmst"
      }
    },
    {
      "cell_type": "markdown",
      "source": [
        "Trying the first model which contain: 2 hidden layers \"relu activation\" and 1 ouput layer \"softmax activation\".And using \"Adam\" as optimizer."
      ],
      "metadata": {
        "id": "pCfxQz88dhVr"
      }
    },
    {
      "cell_type": "code",
      "source": [
        "model1 = tf.keras.Sequential([\n",
        "    tf.keras.layers.Flatten(input_shape=(28, 28)),\n",
        "    tf.keras.layers.Dense(128, activation='relu', name=\"L1\"),\n",
        "    tf.keras.layers.Dense(128, activation='relu', name=\"L2\"),\n",
        "    tf.keras.layers.Dense(10, activation='softmax', name=\"Output\")\n",
        "])\n",
        "\n",
        "model1.compile(optimizer='adam',\n",
        "               loss=tf.keras.losses.SparseCategoricalCrossentropy(),\n",
        "               metrics=['accuracy']\n",
        "              )\n",
        "model1.summary()"
      ],
      "metadata": {
        "id": "fUvpdr-GMxgK",
        "colab": {
          "base_uri": "https://localhost:8080/"
        },
        "outputId": "36be8b98-cd35-4b91-a507-b0ea43f505ee"
      },
      "execution_count": 14,
      "outputs": [
        {
          "output_type": "stream",
          "name": "stdout",
          "text": [
            "Model: \"sequential_6\"\n",
            "_________________________________________________________________\n",
            " Layer (type)                Output Shape              Param #   \n",
            "=================================================================\n",
            " flatten_6 (Flatten)         (None, 784)               0         \n",
            "                                                                 \n",
            " L1 (Dense)                  (None, 128)               100480    \n",
            "                                                                 \n",
            " L2 (Dense)                  (None, 128)               16512     \n",
            "                                                                 \n",
            " Output (Dense)              (None, 10)                1290      \n",
            "                                                                 \n",
            "=================================================================\n",
            "Total params: 118282 (462.04 KB)\n",
            "Trainable params: 118282 (462.04 KB)\n",
            "Non-trainable params: 0 (0.00 Byte)\n",
            "_________________________________________________________________\n"
          ]
        }
      ]
    },
    {
      "cell_type": "markdown",
      "source": [
        "# **Second Architecture**."
      ],
      "metadata": {
        "id": "wnHdgCYTgzGG"
      }
    },
    {
      "cell_type": "markdown",
      "source": [
        "Trying the second model which contain: 2 hidden layers \"relu activation\" and 1 ouput layer \"softmax activation\".And using \"Adam\" as optimizer.\n",
        "This time we changed the number of neurons inside one of the layers and added \"Dropout\" after each layer."
      ],
      "metadata": {
        "id": "CSE8OscTd5rd"
      }
    },
    {
      "cell_type": "code",
      "source": [
        "model2 = tf.keras.Sequential([\n",
        "    tf.keras.layers.Flatten(input_shape=(28, 28)),\n",
        "    tf.keras.layers.Dense(256, activation='relu', name=\"L1\"),\n",
        "    tf.keras.layers.Dropout(0.2),\n",
        "    tf.keras.layers.Dense(128, activation='relu', name=\"L2\"),\n",
        "    tf.keras.layers.Dropout(0.2),\n",
        "    tf.keras.layers.Dense(10, activation='softmax', name=\"Output\")\n",
        "])\n",
        "\n",
        "model2.compile(optimizer='adam',\n",
        "               loss=tf.keras.losses.SparseCategoricalCrossentropy(),\n",
        "               metrics=['accuracy']\n",
        "              )\n",
        "model2.summary()"
      ],
      "metadata": {
        "id": "v40BYo0tXvcL",
        "colab": {
          "base_uri": "https://localhost:8080/"
        },
        "outputId": "c8139818-f4ae-4687-efe2-fd3003abe6dd"
      },
      "execution_count": 15,
      "outputs": [
        {
          "output_type": "stream",
          "name": "stdout",
          "text": [
            "Model: \"sequential_7\"\n",
            "_________________________________________________________________\n",
            " Layer (type)                Output Shape              Param #   \n",
            "=================================================================\n",
            " flatten_7 (Flatten)         (None, 784)               0         \n",
            "                                                                 \n",
            " L1 (Dense)                  (None, 256)               200960    \n",
            "                                                                 \n",
            " dropout_4 (Dropout)         (None, 256)               0         \n",
            "                                                                 \n",
            " L2 (Dense)                  (None, 128)               32896     \n",
            "                                                                 \n",
            " dropout_5 (Dropout)         (None, 128)               0         \n",
            "                                                                 \n",
            " Output (Dense)              (None, 10)                1290      \n",
            "                                                                 \n",
            "=================================================================\n",
            "Total params: 235146 (918.54 KB)\n",
            "Trainable params: 235146 (918.54 KB)\n",
            "Non-trainable params: 0 (0.00 Byte)\n",
            "_________________________________________________________________\n"
          ]
        }
      ]
    },
    {
      "cell_type": "markdown",
      "source": [
        "Trying the Third model which contain: 3 hidden layers \"relu activation\" and 1 ouput layer \"softmax activation\".\n",
        "\"Adam\" as optimizer but his time we changed the learning rate.\n",
        "Also, we increased the number of neurons in the second layer.\n",
        "And increased the percentage of the dropout."
      ],
      "metadata": {
        "id": "nKhSN75XeK4N"
      }
    },
    {
      "cell_type": "markdown",
      "source": [
        "# **Third Architecture**."
      ],
      "metadata": {
        "id": "4Tw1EZksg6xY"
      }
    },
    {
      "cell_type": "code",
      "source": [
        "model3 = tf.keras.Sequential([\n",
        "    tf.keras.layers.Flatten(input_shape=(28, 28)),\n",
        "    tf.keras.layers.Dense(256, activation='relu', name=\"L1\"),\n",
        "    tf.keras.layers.Dropout(0.3),\n",
        "    tf.keras.layers.Dense(256, activation='relu', name=\"L2\"),\n",
        "    tf.keras.layers.Dropout(0.3),\n",
        "    tf.keras.layers.Dense(128, activation='relu', name=\"L3\"),\n",
        "    tf.keras.layers.Dense(10, activation='softmax')\n",
        "])\n",
        "\n",
        "model3.compile(\n",
        "    optimizer=tf.keras.optimizers.Adam(learning_rate=0.0005),\n",
        "    loss=tf.keras.losses.SparseCategoricalCrossentropy(),\n",
        "    metrics=['accuracy']\n",
        ")\n",
        "model3.summary()"
      ],
      "metadata": {
        "id": "F3EbB_tTYZKp",
        "colab": {
          "base_uri": "https://localhost:8080/"
        },
        "outputId": "487d80a3-c5ab-4974-c75d-8e8d3807b7c0"
      },
      "execution_count": 16,
      "outputs": [
        {
          "output_type": "stream",
          "name": "stdout",
          "text": [
            "Model: \"sequential_8\"\n",
            "_________________________________________________________________\n",
            " Layer (type)                Output Shape              Param #   \n",
            "=================================================================\n",
            " flatten_8 (Flatten)         (None, 784)               0         \n",
            "                                                                 \n",
            " L1 (Dense)                  (None, 256)               200960    \n",
            "                                                                 \n",
            " dropout_6 (Dropout)         (None, 256)               0         \n",
            "                                                                 \n",
            " L2 (Dense)                  (None, 256)               65792     \n",
            "                                                                 \n",
            " dropout_7 (Dropout)         (None, 256)               0         \n",
            "                                                                 \n",
            " L3 (Dense)                  (None, 128)               32896     \n",
            "                                                                 \n",
            " dense_2 (Dense)             (None, 10)                1290      \n",
            "                                                                 \n",
            "=================================================================\n",
            "Total params: 300938 (1.15 MB)\n",
            "Trainable params: 300938 (1.15 MB)\n",
            "Non-trainable params: 0 (0.00 Byte)\n",
            "_________________________________________________________________\n"
          ]
        }
      ]
    },
    {
      "cell_type": "markdown",
      "source": [
        "# **Fourth Architecture**."
      ],
      "metadata": {
        "id": "HlhBTyDHg9eu"
      }
    },
    {
      "cell_type": "markdown",
      "source": [
        "Trying the Fourth model which is **CNN**:\n",
        "it contains: 2 convolutional layers \"relu activation\" each one followed by a maxpooling layer , a Dense layer to increase the model capacity and the ouput layer \"softmax activation\".\n",
        "\"Adam\" as optimizer."
      ],
      "metadata": {
        "id": "w9FL-UH-ez8v"
      }
    },
    {
      "cell_type": "code",
      "source": [
        "model4 = tf.keras.Sequential([\n",
        "    tf.keras.layers.Conv2D(32, (3, 3), activation='relu', input_shape=(28, 28, 1), name=\"Conv1\"),\n",
        "    tf.keras.layers.MaxPooling2D((2, 2)),\n",
        "    tf.keras.layers.Conv2D(64, (3, 3), activation='relu', name=\"Conv2\"),\n",
        "    tf.keras.layers.MaxPooling2D((2, 2)),\n",
        "    tf.keras.layers.Flatten(),\n",
        "    tf.keras.layers.Dense(128, activation='relu', name=\"Dense1\"),\n",
        "    tf.keras.layers.Dense(10, activation='softmax', name=\"Output\")\n",
        "])\n",
        "\n",
        "model4.compile(\n",
        "    optimizer='adam',\n",
        "    loss=tf.keras.losses.SparseCategoricalCrossentropy(),\n",
        "    metrics=['accuracy']\n",
        ")\n",
        "model4.summary()"
      ],
      "metadata": {
        "id": "V-EAr8_6bngz",
        "colab": {
          "base_uri": "https://localhost:8080/"
        },
        "outputId": "da70aed9-68a2-4072-92ae-4ce3c1230550"
      },
      "execution_count": 12,
      "outputs": [
        {
          "output_type": "stream",
          "name": "stdout",
          "text": [
            "Model: \"sequential_5\"\n",
            "_________________________________________________________________\n",
            " Layer (type)                Output Shape              Param #   \n",
            "=================================================================\n",
            " Conv1 (Conv2D)              (None, 26, 26, 32)        320       \n",
            "                                                                 \n",
            " max_pooling2d (MaxPooling2  (None, 13, 13, 32)        0         \n",
            " D)                                                              \n",
            "                                                                 \n",
            " Conv2 (Conv2D)              (None, 11, 11, 64)        18496     \n",
            "                                                                 \n",
            " max_pooling2d_1 (MaxPoolin  (None, 5, 5, 64)          0         \n",
            " g2D)                                                            \n",
            "                                                                 \n",
            " flatten_5 (Flatten)         (None, 1600)              0         \n",
            "                                                                 \n",
            " Dense1 (Dense)              (None, 128)               204928    \n",
            "                                                                 \n",
            " Output (Dense)              (None, 10)                1290      \n",
            "                                                                 \n",
            "=================================================================\n",
            "Total params: 225034 (879.04 KB)\n",
            "Trainable params: 225034 (879.04 KB)\n",
            "Non-trainable params: 0 (0.00 Byte)\n",
            "_________________________________________________________________\n"
          ]
        }
      ]
    },
    {
      "cell_type": "markdown",
      "source": [
        "# Fitting the models\n",
        "training the model and then evaluating it against the new data to get the loss and accuracy of each model."
      ],
      "metadata": {
        "id": "WCS4lUJWfBtZ"
      }
    },
    {
      "cell_type": "code",
      "source": [
        "models = [model1, model2, model3, model4]\n",
        "results = {}\n",
        "for i, model in enumerate(models):\n",
        "    print(f\" Model {i+1}\")\n",
        "    model.fit(train_images, train_labels, epochs=10, validation_data=(val_images, val_labels))\n",
        "    test_loss, test_acc = model.evaluate(test_images, test_labels, verbose=2)\n",
        "    print(f\"Model {i+1} - Test Accuracy: {test_acc}, Test Loss: {test_loss}\")\n",
        "    results[f\"Model {i+1}\"] = {\n",
        "        'accuracy': test_acc,\n",
        "        'loss': test_loss\n",
        "    }"
      ],
      "metadata": {
        "colab": {
          "base_uri": "https://localhost:8080/"
        },
        "id": "sWCLpbMJbyS6",
        "outputId": "16b729d1-f500-4bf3-84ca-f0e931dac12a"
      },
      "execution_count": 17,
      "outputs": [
        {
          "output_type": "stream",
          "name": "stdout",
          "text": [
            " Model 1\n",
            "Epoch 1/10\n",
            "1563/1563 [==============================] - 8s 4ms/step - loss: 0.5016 - accuracy: 0.8204 - val_loss: 0.3906 - val_accuracy: 0.8561\n",
            "Epoch 2/10\n",
            "1563/1563 [==============================] - 8s 5ms/step - loss: 0.3712 - accuracy: 0.8640 - val_loss: 0.3736 - val_accuracy: 0.8613\n",
            "Epoch 3/10\n",
            "1563/1563 [==============================] - 6s 4ms/step - loss: 0.3324 - accuracy: 0.8766 - val_loss: 0.3476 - val_accuracy: 0.8707\n",
            "Epoch 4/10\n",
            "1563/1563 [==============================] - 8s 5ms/step - loss: 0.3062 - accuracy: 0.8865 - val_loss: 0.3356 - val_accuracy: 0.8741\n",
            "Epoch 5/10\n",
            "1563/1563 [==============================] - 7s 5ms/step - loss: 0.2893 - accuracy: 0.8911 - val_loss: 0.3262 - val_accuracy: 0.8818\n",
            "Epoch 6/10\n",
            "1563/1563 [==============================] - 8s 5ms/step - loss: 0.2755 - accuracy: 0.8967 - val_loss: 0.3289 - val_accuracy: 0.8825\n",
            "Epoch 7/10\n",
            "1563/1563 [==============================] - 7s 5ms/step - loss: 0.2628 - accuracy: 0.9018 - val_loss: 0.3304 - val_accuracy: 0.8829\n",
            "Epoch 8/10\n",
            "1563/1563 [==============================] - 10s 6ms/step - loss: 0.2515 - accuracy: 0.9052 - val_loss: 0.3283 - val_accuracy: 0.8837\n",
            "Epoch 9/10\n",
            "1563/1563 [==============================] - 7s 5ms/step - loss: 0.2420 - accuracy: 0.9072 - val_loss: 0.3059 - val_accuracy: 0.8888\n",
            "Epoch 10/10\n",
            "1563/1563 [==============================] - 6s 4ms/step - loss: 0.2306 - accuracy: 0.9131 - val_loss: 0.3242 - val_accuracy: 0.8879\n",
            "313/313 - 0s - loss: 0.3457 - accuracy: 0.8802 - 492ms/epoch - 2ms/step\n",
            "Model 1 - Test Accuracy: 0.8802000284194946, Test Loss: 0.3457302749156952\n",
            " Model 2\n",
            "Epoch 1/10\n",
            "1563/1563 [==============================] - 10s 6ms/step - loss: 0.5581 - accuracy: 0.7994 - val_loss: 0.4241 - val_accuracy: 0.8383\n",
            "Epoch 2/10\n",
            "1563/1563 [==============================] - 10s 6ms/step - loss: 0.4200 - accuracy: 0.8458 - val_loss: 0.3744 - val_accuracy: 0.8596\n",
            "Epoch 3/10\n",
            "1563/1563 [==============================] - 11s 7ms/step - loss: 0.3767 - accuracy: 0.8622 - val_loss: 0.3615 - val_accuracy: 0.8651\n",
            "Epoch 4/10\n",
            "1563/1563 [==============================] - 11s 7ms/step - loss: 0.3567 - accuracy: 0.8696 - val_loss: 0.3415 - val_accuracy: 0.8718\n",
            "Epoch 5/10\n",
            "1563/1563 [==============================] - 9s 6ms/step - loss: 0.3433 - accuracy: 0.8735 - val_loss: 0.3386 - val_accuracy: 0.8757\n",
            "Epoch 6/10\n",
            "1563/1563 [==============================] - 9s 6ms/step - loss: 0.3246 - accuracy: 0.8799 - val_loss: 0.3281 - val_accuracy: 0.8783\n",
            "Epoch 7/10\n",
            "1563/1563 [==============================] - 9s 6ms/step - loss: 0.3159 - accuracy: 0.8836 - val_loss: 0.3149 - val_accuracy: 0.8824\n",
            "Epoch 8/10\n",
            "1563/1563 [==============================] - 8s 5ms/step - loss: 0.3047 - accuracy: 0.8872 - val_loss: 0.3245 - val_accuracy: 0.8810\n",
            "Epoch 9/10\n",
            "1563/1563 [==============================] - 10s 6ms/step - loss: 0.3003 - accuracy: 0.8891 - val_loss: 0.3190 - val_accuracy: 0.8811\n",
            "Epoch 10/10\n",
            "1563/1563 [==============================] - 10s 6ms/step - loss: 0.2926 - accuracy: 0.8922 - val_loss: 0.3290 - val_accuracy: 0.8824\n",
            "313/313 - 1s - loss: 0.3507 - accuracy: 0.8750 - 559ms/epoch - 2ms/step\n",
            "Model 2 - Test Accuracy: 0.875, Test Loss: 0.35074716806411743\n",
            " Model 3\n",
            "Epoch 1/10\n",
            "1563/1563 [==============================] - 13s 8ms/step - loss: 0.5999 - accuracy: 0.7845 - val_loss: 0.4271 - val_accuracy: 0.8448\n",
            "Epoch 2/10\n",
            "1563/1563 [==============================] - 11s 7ms/step - loss: 0.4321 - accuracy: 0.8419 - val_loss: 0.3852 - val_accuracy: 0.8603\n",
            "Epoch 3/10\n",
            "1563/1563 [==============================] - 10s 7ms/step - loss: 0.3944 - accuracy: 0.8548 - val_loss: 0.3682 - val_accuracy: 0.8686\n",
            "Epoch 4/10\n",
            "1563/1563 [==============================] - 11s 7ms/step - loss: 0.3713 - accuracy: 0.8648 - val_loss: 0.3581 - val_accuracy: 0.8669\n",
            "Epoch 5/10\n",
            "1563/1563 [==============================] - 12s 8ms/step - loss: 0.3544 - accuracy: 0.8695 - val_loss: 0.3419 - val_accuracy: 0.8757\n",
            "Epoch 6/10\n",
            "1563/1563 [==============================] - 12s 7ms/step - loss: 0.3381 - accuracy: 0.8741 - val_loss: 0.3257 - val_accuracy: 0.8818\n",
            "Epoch 7/10\n",
            "1563/1563 [==============================] - 12s 7ms/step - loss: 0.3254 - accuracy: 0.8780 - val_loss: 0.3323 - val_accuracy: 0.8809\n",
            "Epoch 8/10\n",
            "1563/1563 [==============================] - 11s 7ms/step - loss: 0.3179 - accuracy: 0.8833 - val_loss: 0.3182 - val_accuracy: 0.8834\n",
            "Epoch 9/10\n",
            "1563/1563 [==============================] - 12s 8ms/step - loss: 0.3078 - accuracy: 0.8868 - val_loss: 0.3233 - val_accuracy: 0.8784\n",
            "Epoch 10/10\n",
            "1563/1563 [==============================] - 10s 6ms/step - loss: 0.3007 - accuracy: 0.8885 - val_loss: 0.3099 - val_accuracy: 0.8869\n",
            "313/313 - 1s - loss: 0.3339 - accuracy: 0.8808 - 930ms/epoch - 3ms/step\n",
            "Model 3 - Test Accuracy: 0.8808000087738037, Test Loss: 0.33386117219924927\n",
            " Model 4\n",
            "Epoch 1/10\n",
            "1563/1563 [==============================] - 53s 33ms/step - loss: 0.4625 - accuracy: 0.8323 - val_loss: 0.3816 - val_accuracy: 0.8598\n",
            "Epoch 2/10\n",
            "1563/1563 [==============================] - 46s 29ms/step - loss: 0.3119 - accuracy: 0.8857 - val_loss: 0.3568 - val_accuracy: 0.8628\n",
            "Epoch 3/10\n",
            "1563/1563 [==============================] - 48s 30ms/step - loss: 0.2616 - accuracy: 0.9040 - val_loss: 0.2862 - val_accuracy: 0.8966\n",
            "Epoch 4/10\n",
            "1563/1563 [==============================] - 46s 29ms/step - loss: 0.2309 - accuracy: 0.9139 - val_loss: 0.2703 - val_accuracy: 0.8994\n",
            "Epoch 5/10\n",
            "1563/1563 [==============================] - 47s 30ms/step - loss: 0.1997 - accuracy: 0.9262 - val_loss: 0.2697 - val_accuracy: 0.9028\n",
            "Epoch 6/10\n",
            "1563/1563 [==============================] - 46s 29ms/step - loss: 0.1787 - accuracy: 0.9335 - val_loss: 0.2801 - val_accuracy: 0.8987\n",
            "Epoch 7/10\n",
            "1563/1563 [==============================] - 48s 31ms/step - loss: 0.1561 - accuracy: 0.9419 - val_loss: 0.2640 - val_accuracy: 0.9063\n",
            "Epoch 8/10\n",
            "1563/1563 [==============================] - 48s 31ms/step - loss: 0.1369 - accuracy: 0.9494 - val_loss: 0.2727 - val_accuracy: 0.9056\n",
            "Epoch 9/10\n",
            "1563/1563 [==============================] - 46s 29ms/step - loss: 0.1217 - accuracy: 0.9541 - val_loss: 0.2737 - val_accuracy: 0.9101\n",
            "Epoch 10/10\n",
            "1563/1563 [==============================] - 48s 31ms/step - loss: 0.1085 - accuracy: 0.9586 - val_loss: 0.2898 - val_accuracy: 0.9086\n",
            "313/313 - 3s - loss: 0.3224 - accuracy: 0.9038 - 3s/epoch - 11ms/step\n",
            "Model 4 - Test Accuracy: 0.9038000106811523, Test Loss: 0.3224143087863922\n"
          ]
        }
      ]
    },
    {
      "cell_type": "code",
      "source": [
        "for model_name, result in results.items():\n",
        "    print(f\"{model_name}: Accuracy = {result['accuracy']}, Loss = {result['loss']}\")\n"
      ],
      "metadata": {
        "colab": {
          "base_uri": "https://localhost:8080/"
        },
        "id": "KnFbntMzR9EN",
        "outputId": "6a6f773f-b28b-4a34-9e1a-3b272be374e3"
      },
      "execution_count": 19,
      "outputs": [
        {
          "output_type": "stream",
          "name": "stdout",
          "text": [
            "Model 1: Accuracy = 0.8802000284194946, Loss = 0.3457302749156952\n",
            "Model 2: Accuracy = 0.875, Loss = 0.35074716806411743\n",
            "Model 3: Accuracy = 0.8808000087738037, Loss = 0.33386117219924927\n",
            "Model 4: Accuracy = 0.9038000106811523, Loss = 0.3224143087863922\n"
          ]
        }
      ]
    },
    {
      "cell_type": "markdown",
      "source": [
        "# Predict new sample class."
      ],
      "metadata": {
        "id": "cJtykqHFfaJQ"
      }
    },
    {
      "cell_type": "code",
      "source": [
        "def predict(model, sample):\n",
        "    prediction = model.predict(np.expand_dims(sample, axis=0))\n",
        "    predicted_class = np.argmax(prediction)\n",
        "    print(f\"Predicted Class: {predicted_class}\")\n",
        "    return predicted_class\n",
        "\n",
        "sample_index = 0\n",
        "sample = test_images[sample_index]\n",
        "print(f\"True Class: {test_labels[sample_index]}\")\n",
        "predict(model1, sample)\n",
        "predict(model2, sample)\n",
        "predict(model3, sample)\n",
        "predict(model4, sample)"
      ],
      "metadata": {
        "colab": {
          "base_uri": "https://localhost:8080/"
        },
        "id": "YO7xVBfMcNE4",
        "outputId": "b62d633d-fa77-49dc-f1da-00552d2b74aa"
      },
      "execution_count": 20,
      "outputs": [
        {
          "output_type": "stream",
          "name": "stdout",
          "text": [
            "True Class: 9\n",
            "1/1 [==============================] - 0s 166ms/step\n",
            "Predicted Class: 9\n",
            "1/1 [==============================] - 0s 60ms/step\n",
            "Predicted Class: 9\n",
            "1/1 [==============================] - 0s 74ms/step\n",
            "Predicted Class: 9\n",
            "1/1 [==============================] - 0s 77ms/step\n",
            "Predicted Class: 9\n"
          ]
        },
        {
          "output_type": "execute_result",
          "data": {
            "text/plain": [
              "9"
            ]
          },
          "metadata": {},
          "execution_count": 20
        }
      ]
    },
    {
      "cell_type": "markdown",
      "source": [
        "# Bar Plot Accuracy\n",
        "comparing each model accuracy by plotting"
      ],
      "metadata": {
        "id": "QFdiD59SnV9k"
      }
    },
    {
      "cell_type": "code",
      "source": [
        "def plot_model_accuracies(results):\n",
        "    model_names = list(results.keys())\n",
        "    accuracies = [results[model]['accuracy'] for model in model_names]\n",
        "    color = ['lightblue', 'blue', 'purple', 'red']\n",
        "    plt.figure(figsize=(8, 6))\n",
        "    bars = plt.bar(model_names, accuracies, color=color,)\n",
        "    for bar, accuracy in zip(bars, accuracies):\n",
        "        yval = bar.get_height()\n",
        "        plt.text(\n",
        "            bar.get_x() + bar.get_width() / 2,\n",
        "            yval + 0.02,\n",
        "            f\"{yval:.04}\",\n",
        "            ha=\"center\",\n",
        "            va=\"bottom\",\n",
        "        )\n",
        "    plt.title('Model Accuracy Comparison')\n",
        "    plt.xlabel('Model')\n",
        "    plt.ylabel('Accuracy')\n",
        "    plt.ylim(0, 1)\n",
        "    plt.show()\n",
        "\n",
        "plot_model_accuracies(results)"
      ],
      "metadata": {
        "colab": {
          "base_uri": "https://localhost:8080/",
          "height": 564
        },
        "id": "JDN3t6jff__i",
        "outputId": "7d9505bb-457e-4ecb-b127-c75c5fd90389"
      },
      "execution_count": 25,
      "outputs": [
        {
          "output_type": "display_data",
          "data": {
            "text/plain": [
              "<Figure size 800x600 with 1 Axes>"
            ],
            "image/png": "[encoded data removed]"
          },
          "metadata": {}
        }
      ]
    }
  ]
}