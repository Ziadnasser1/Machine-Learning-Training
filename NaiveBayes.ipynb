{
  "nbformat": 4,
  "nbformat_minor": 0,
  "metadata": {
    "colab": {
      "provenance": [],
      "authorship_tag": "ABX9TyOTk3SWyynW3eYpRLB4ToZe",
      "include_colab_link": true
    },
    "kernelspec": {
      "name": "python3",
      "display_name": "Python 3"
    },
    "language_info": {
      "name": "python"
    }
  },
  "cells": [
    {
      "cell_type": "markdown",
      "metadata": {
        "id": "view-in-github",
        "colab_type": "text"
      },
      "source": [
        "<a href=\"https://colab.research.google.com/github/Ziadnasser1/Machine-Learning-Training/blob/master/NaiveBayes.ipynb\" target=\"_parent\"><img src=\"https://colab.research.google.com/assets/colab-badge.svg\" alt=\"Open In Colab\"/></a>"
      ]
    },
    {
      "cell_type": "code",
      "execution_count": 30,
      "metadata": {
        "id": "VbuGHtlkTU4a"
      },
      "outputs": [],
      "source": [
        "import pandas as pd\n",
        "import numpy as np\n",
        "from sklearn.preprocessing import LabelEncoder"
      ]
    },
    {
      "cell_type": "code",
      "source": [
        "tennisData=pd.read_csv('/content/PlayTennis.csv')\n",
        "\n",
        "tennisData.replace({'Outlook': {'Sunny': 0, 'Overcast': 1, 'Rain': 2},\n",
        "                    'Temperature': {'Hot': 0, 'Mild': 1, 'Cool': 2},\n",
        "                    'Humidity': {'High': 0, 'Normal': 1},\n",
        "                    'Wind': {'Weak': 0, 'Strong': 1},\n",
        "                    'Play Tennis': {'Yes': 1, 'No': 0},}, inplace=True)\n",
        "\n",
        "X_train = tennisData.iloc[:, :-1].values\n",
        "Y_train = tennisData.iloc[:, -1].values\n",
        "print(X_train)\n",
        "print(Y_train)"
      ],
      "metadata": {
        "id": "Hrhj7SdZUI54"
      },
      "execution_count": null,
      "outputs": []
    },
    {
      "cell_type": "code",
      "source": [
        "import math\n",
        "class naiveBayes:\n",
        "  def __init__(self):\n",
        "        self.x_train = []\n",
        "        self.y_train = []\n",
        "        self.XProb = {}\n",
        "        self.classes = np.unique(Y_train)\n",
        "\n",
        "  def fit(self, X, Y):\n",
        "        self.X_train = X\n",
        "        self.Y_train = Y\n",
        "\n",
        "  def prior(self, Class):\n",
        "        return np.sum(self.Y_train == Class) / len(self.Y_train)\n",
        "\n",
        "  def params(self):\n",
        "        params = {}\n",
        "        for Class in self.classes:\n",
        "            params[Class] = {\n",
        "                             \"mean\": np.mean(self.X_train[self.Y_train == Class], axis=0),\n",
        "                             \"var\": np.var(self.X_train[self.Y_train == Class], axis=0)\n",
        "                             }\n",
        "        return params\n",
        "\n",
        "  # density Function = 1/root(2pi * variance) * exp[- (X - mean)^2/2 * variance]\n",
        "  def likelihood(self, X, mean, var):\n",
        "        return np.prod(1 / np.sqrt(2 * np.pi * var) * np.exp(-(X - mean) ** 2 / (2 * var)))\n",
        "\n",
        "  def marginalization(self, x):\n",
        "        marginal_prob = np.zeros(len(self.classes))\n",
        "        params = self.params()\n",
        "        for i, Class in enumerate(self.classes):\n",
        "            LH = self.likelihood(x, params[Class][\"mean\"], params[Class][\"var\"])\n",
        "            marginal_prob[i] = self.prior(Class) * LH\n",
        "        return marginal_prob / np.sum(marginal_prob)\n",
        "\n",
        "  def predict(self, X_test):\n",
        "          preds = []\n",
        "          for x in X_test:\n",
        "              posterior = self.marginalization(x)\n",
        "              preds.append(self.classes[np.argmax(posterior)])\n",
        "          return preds\n",
        "\n"
      ],
      "metadata": {
        "id": "6RpRyrtiUY1A"
      },
      "execution_count": 58,
      "outputs": []
    },
    {
      "cell_type": "code",
      "source": [
        "\n",
        "X_train = tennisData.iloc[:, :-1].values\n",
        "Y_train = tennisData.iloc[:, -1].values\n",
        "\n",
        "nb_classifier = naiveBayes()\n",
        "nb_classifier.fit(X_train, Y_train)\n",
        "\n",
        "test = {\n",
        "    'Outlook': 'Sunny',\n",
        "    'Temperature': 'Cool',\n",
        "    'Humidity': 'High',\n",
        "    'Wind': 'Strong'\n",
        "}\n",
        "\n",
        "test_data = pd.DataFrame([test])\n",
        "test_data.replace({'Outlook': {'Sunny': 0, 'Overcast': 1, 'Rain': 2},\n",
        "                    'Temperature': {'Hot': 0, 'Mild': 1, 'Cool': 2},\n",
        "                    'Humidity': {'High': 0, 'Normal': 1},\n",
        "                    'Wind': {'Weak': 0, 'Strong': 1}}, inplace=True)\n",
        "\n",
        "X_test = test_data.values\n",
        "predictions = nb_classifier.predict(X_test)\n",
        "\n",
        "print(\"NO Play\" if predictions[0] == 0 else \"YES Play\")\n"
      ],
      "metadata": {
        "colab": {
          "base_uri": "https://localhost:8080/"
        },
        "id": "XWcFmZMvVcGJ",
        "outputId": "53a865f1-082d-4ed9-9eab-a5ab15d47952"
      },
      "execution_count": 59,
      "outputs": [
        {
          "output_type": "stream",
          "name": "stdout",
          "text": [
            "NO Play\n"
          ]
        }
      ]
    }
  ]
}